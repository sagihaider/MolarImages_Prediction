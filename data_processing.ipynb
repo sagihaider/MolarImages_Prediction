{
  "nbformat": 4,
  "nbformat_minor": 0,
  "metadata": {
    "colab": {
      "name": "data_processing.ipynb",
      "provenance": [],
      "collapsed_sections": [],
      "authorship_tag": "ABX9TyOV9B8+MPFZeQeU8MUjXeB4",
      "include_colab_link": true
    },
    "kernelspec": {
      "name": "python3",
      "display_name": "Python 3"
    },
    "language_info": {
      "name": "python"
    }
  },
  "cells": [
    {
      "cell_type": "markdown",
      "metadata": {
        "id": "view-in-github",
        "colab_type": "text"
      },
      "source": [
        "<a href=\"https://colab.research.google.com/github/sagihaider/MolarImages_Prediction/blob/main/data_processing.ipynb\" target=\"_parent\"><img src=\"https://colab.research.google.com/assets/colab-badge.svg\" alt=\"Open In Colab\"/></a>"
      ]
    },
    {
      "cell_type": "code",
      "metadata": {
        "colab": {
          "base_uri": "https://localhost:8080/"
        },
        "id": "r4qdQaUGx0YB",
        "outputId": "908dbeef-6872-4e9d-a1a3-56468274b9cf"
      },
      "source": [
        "from zipfile import ZipFile\n",
        "file_name = \"/content/BackUp.zip\"\n",
        "with ZipFile(file_name, 'r') as zip:\n",
        "  zip.extractall()\n",
        "  print('done')"
      ],
      "execution_count": null,
      "outputs": [
        {
          "output_type": "stream",
          "name": "stdout",
          "text": [
            "done\n"
          ]
        }
      ]
    },
    {
      "cell_type": "code",
      "metadata": {
        "id": "QtsHPOnbyfSn"
      },
      "source": [
        "import numpy as np\n",
        "import pandas as pd\n",
        "import os"
      ],
      "execution_count": null,
      "outputs": []
    },
    {
      "cell_type": "code",
      "metadata": {
        "id": "rJOZnv7TynCE",
        "colab": {
          "base_uri": "https://localhost:8080/"
        },
        "outputId": "f4b08c95-998b-47a9-fbd7-27d70f09f913"
      },
      "source": [
        "# Read CSV file using pandas\n",
        "import pandas as pd\n",
        "# df=pd.read_csv('/content/Metadata/CroppedData1.csv')\n",
        "# df=pd.read_csv('/content/Metadata/CroppedData2.csv')\n",
        "df=pd.read_csv('/content/Metadata/CroppedData3.csv')\n",
        "print(df.head())\n",
        "\n",
        "# Output Dir\n",
        "base_dir = '/content/Sorted_Tooth/' # Create a folder to store data\n",
        "if not os.path.exists(base_dir): os.mkdir(base_dir)"
      ],
      "execution_count": null,
      "outputs": [
        {
          "output_type": "stream",
          "name": "stdout",
          "text": [
            "   Age Sex         Name  Unnamed: 3  Unnamed: 4 Unnamed: 5\n",
            "0   56   M     A K jain         NaN         NaN        NaN\n",
            "1   45   F      Kanchan         NaN         NaN        NaN\n",
            "2   52   M  Aabid husan         NaN         NaN        NaN\n",
            "3   48   F        Achal         NaN         NaN        NaN\n",
            "4   48   M  Adesh kumar         NaN         NaN        NaN\n"
          ]
        }
      ]
    },
    {
      "cell_type": "code",
      "metadata": {
        "colab": {
          "base_uri": "https://localhost:8080/"
        },
        "id": "jIf7aDo73BmG",
        "outputId": "d5063f92-01b2-47aa-892e-03da2d2f331e"
      },
      "source": [
        "df.shape"
      ],
      "execution_count": null,
      "outputs": [
        {
          "output_type": "execute_result",
          "data": {
            "text/plain": [
              "(779, 6)"
            ]
          },
          "metadata": {},
          "execution_count": 43
        }
      ]
    },
    {
      "cell_type": "markdown",
      "metadata": {
        "id": "ruwguM7T4Zdx"
      },
      "source": [
        "## Cropped Data 1"
      ]
    },
    {
      "cell_type": "code",
      "metadata": {
        "id": "Vn5x5DMoBU-u"
      },
      "source": [
        "import natsort \n",
        "import shutil\n",
        "import glob\n",
        "\n",
        "f_name = []\n",
        "path = '/content/CroppedData1/'\n",
        "# name1=os.listdir(path)\n",
        "for count, filename in enumerate(os.listdir(path)):\n",
        "  f_name.append(filename) # create a list of folders under path\n",
        "  \n",
        "!find . -name \"*.DS_Store\" -type f -delete # Uncooment this line when *.DS_Store list up\n",
        "# print(f_name)\n",
        "sort_name = natsort.natsorted(f_name,reverse=False)\n",
        "sort_name = sort_name # Sorted f_name above and saved it here\n",
        "\n",
        "p_id = 0 # patient_id unqiue for Cropped Data 1\n",
        "\n",
        "for s_p_count, s_p_name in enumerate(sort_name):\n",
        "  sub_path = path + sort_name[s_p_count] + '/*'\n",
        "  # print(sub_path)\n",
        "  ss=glob.glob(sub_path) # Read folders under each sub_path (patients folder)\n",
        "  sort_ss = natsort.natsorted(ss,reverse=False) # Sort them \n",
        "  # print(sort_ss)\n",
        "  sort_ss = sort_ss # Save the soreted patient list\n",
        "\n",
        "  for p_count, p_name in enumerate(sort_ss):\n",
        "    # print(p_name)\n",
        "    p_name_files = []\n",
        "    p_folder= p_name + '/*.jpg'\n",
        "    p_name_files=glob.glob(p_folder)\n",
        "    p_id = p_id + 1\n",
        "    p_id_Age = p_id_Age + 1\n",
        "    # print(p_name_files)\n",
        "    for p_f_count, p_name_f_name in enumerate(p_name_files):\n",
        "      # print(p_name_f_name)\n",
        "      dst = base_dir + \"/P_\" + str(p_id) + \"_img\" + str(p_f_count) + \"_age\" + str(df[\"Age\"][p_id - 1]) + \".jpg\"\n",
        "      print(p_id)\n",
        "      os.rename(p_name_f_name, dst)\n",
        "#     print(p_name_f_name)\n",
        "#     print(dst)\n",
        "#     # shutil.copyfile(p_name_f_name, dst)"
      ],
      "execution_count": null,
      "outputs": []
    },
    {
      "cell_type": "markdown",
      "metadata": {
        "id": "c8aKlg3v4bzL"
      },
      "source": [
        "## Cropped Data 2"
      ]
    },
    {
      "cell_type": "code",
      "metadata": {
        "id": "8OpjGvEQ4d47"
      },
      "source": [
        "import natsort \n",
        "import shutil\n",
        "import glob\n",
        "\n",
        "f_name = []\n",
        "path = '/content/CroppedData2/'\n",
        "# name1=os.listdir(path)\n",
        "for count, filename in enumerate(os.listdir(path)):\n",
        "  f_name.append(filename) # create a list of folders under path\n",
        "  \n",
        "!find . -name \"*.DS_Store\" -type f -delete # Uncooment this line when *.DS_Store list up\n",
        "# print(f_name)\n",
        "sort_name = natsort.natsorted(f_name,reverse=False)\n",
        "sort_name = sort_name # Sorted f_name above and saved it here\n",
        "sort_name\n",
        "\n",
        "p_id = 999 # patient_id unqiue for Cropped Data 1\n",
        "p_id_Age = 0\n",
        "\n",
        "# for s_p_count, s_p_name in enumerate(sort_name):\n",
        "#   sub_path = path + sort_name[s_p_count] + '/*'\n",
        "#   # print(sub_path)\n",
        "#   ss=glob.glob(sub_path) # Read folders under each sub_path (patients folder)\n",
        "#   sort_ss = natsort.natsorted(ss,reverse=False) # Sort them \n",
        "#   # print(sort_ss)\n",
        "#   sort_ss = sort_ss # Save the soreted patient list\n",
        "\n",
        "for p_count, p_name in enumerate(sort_name):\n",
        "  # print(p_name)\n",
        "  p_name_files = []\n",
        "  p_folder= path + p_name + '/*.jpg'\n",
        "  # print(p_folder)\n",
        "  p_name_files=glob.glob(p_folder)\n",
        "  p_id = p_id + 1\n",
        "  p_id_Age = p_id_Age + 1\n",
        "  # print(p_name_files)\n",
        "  for p_f_count, p_name_f_name in enumerate(p_name_files):\n",
        "    # print(p_name_f_name)\n",
        "    dst = base_dir + \"P_\" + str(p_id) + \"_img\" + str(p_f_count) + \"_age\" + str(df[\"Age\"][p_id_Age - 1]) + \".jpg\"\n",
        "    # print(p_id)\n",
        "    os.rename(p_name_f_name, dst)\n",
        "# #     print(p_name_f_name)\n",
        "# #     print(dst)\n",
        "# #     # shutil.copyfile(p_name_f_name, dst)"
      ],
      "execution_count": null,
      "outputs": []
    },
    {
      "cell_type": "markdown",
      "metadata": {
        "id": "GfXuhjgXE1U2"
      },
      "source": [
        "## Cropped Data 3"
      ]
    },
    {
      "cell_type": "code",
      "metadata": {
        "id": "ayg7xYgjE4sc"
      },
      "source": [
        "import natsort \n",
        "import shutil\n",
        "import glob\n",
        "\n",
        "f_name = []\n",
        "path = '/content/CroppedData3/'\n",
        "# name1=os.listdir(path)\n",
        "for count, filename in enumerate(os.listdir(path)):\n",
        "  f_name.append(filename) # create a list of folders under path\n",
        "  \n",
        "!find . -name \"*.DS_Store\" -type f -delete # Uncooment this line when *.DS_Store list up\n",
        "# print(f_name)\n",
        "sort_name = natsort.natsorted(f_name,reverse=False)\n",
        "sort_name = sort_name # Sorted f_name above and saved it here\n",
        "sort_name\n",
        "\n",
        "p_id = 1888 # patient_id unqiue for Cropped Data 1\n",
        "p_id_Age = 0\n",
        "\n",
        "# for s_p_count, s_p_name in enumerate(sort_name):\n",
        "#   sub_path = path + sort_name[s_p_count] + '/*'\n",
        "#   # print(sub_path)\n",
        "#   ss=glob.glob(sub_path) # Read folders under each sub_path (patients folder)\n",
        "#   sort_ss = natsort.natsorted(ss,reverse=False) # Sort them \n",
        "#   # print(sort_ss)\n",
        "#   sort_ss = sort_ss # Save the soreted patient list\n",
        "\n",
        "for p_count, p_name in enumerate(sort_name):\n",
        "  # print(p_name)\n",
        "  p_name_files = []\n",
        "  p_folder= path + p_name + '/*.jpg'\n",
        "  # print(p_folder)\n",
        "  p_name_files=glob.glob(p_folder)\n",
        "  p_id = p_id + 1\n",
        "  p_id_Age = p_id_Age + 1\n",
        "  # print(p_name_files)\n",
        "  for p_f_count, p_name_f_name in enumerate(p_name_files):\n",
        "    # print(p_name_f_name)\n",
        "    dst = base_dir + \"P_\" + str(p_id) + \"_img\" + str(p_f_count) + \"_age\" + str(df[\"Age\"][p_id_Age - 1]) + \".jpg\"\n",
        "    # print(p_id)\n",
        "    os.rename(p_name_f_name, dst)\n",
        "# #     print(p_name_f_name)\n",
        "# #     print(dst)\n",
        "# #     # shutil.copyfile(p_name_f_name, dst)"
      ],
      "execution_count": null,
      "outputs": []
    },
    {
      "cell_type": "code",
      "metadata": {
        "colab": {
          "base_uri": "https://localhost:8080/",
          "height": 35
        },
        "id": "ZxgH9sTWDl6x",
        "outputId": "2c97f127-ecc5-4980-ffdb-86977d97388d"
      },
      "source": [
        "dst"
      ],
      "execution_count": null,
      "outputs": [
        {
          "output_type": "execute_result",
          "data": {
            "application/vnd.google.colaboratory.intrinsic+json": {
              "type": "string"
            },
            "text/plain": [
              "'/content/Sorted_Tooth/P_2667_img3_age34.jpg'"
            ]
          },
          "metadata": {},
          "execution_count": 45
        }
      ]
    },
    {
      "cell_type": "code",
      "metadata": {
        "colab": {
          "base_uri": "https://localhost:8080/",
          "height": 35
        },
        "id": "jS3Ou9X35D1s",
        "outputId": "9dd18bbe-0526-43f8-d6c9-45d1abd75f61"
      },
      "source": [
        "output_filename = 'output_croppeddata3'\n",
        "shutil.make_archive(output_filename, 'zip', '/content/Sorted_Tooth')"
      ],
      "execution_count": null,
      "outputs": [
        {
          "output_type": "execute_result",
          "data": {
            "application/vnd.google.colaboratory.intrinsic+json": {
              "type": "string"
            },
            "text/plain": [
              "'/content/output_croppeddata3.zip'"
            ]
          },
          "metadata": {},
          "execution_count": 46
        }
      ]
    },
    {
      "cell_type": "code",
      "metadata": {
        "id": "BPu03iLXAxGi"
      },
      "source": [
        "import glob\n",
        "files = glob.glob('/content/Sorted_Tooth/*')\n",
        "# files = glob.glob('/content/CroppedData3/*')\n",
        "for f in files:\n",
        "    os.remove(f)"
      ],
      "execution_count": null,
      "outputs": []
    },
    {
      "cell_type": "code",
      "metadata": {
        "colab": {
          "base_uri": "https://localhost:8080/"
        },
        "id": "dtBpW6a2tnE3",
        "outputId": "6e612313-110a-475c-dd8f-05326fdb9e16"
      },
      "source": [
        "# Data Cropped 3 remove missing number \n",
        "from zipfile import ZipFile\n",
        "file_name = \"/content/CroppedData3.zip\"\n",
        "with ZipFile(file_name, 'r') as zip:\n",
        "  zip.extractall()\n",
        "  print('done')"
      ],
      "execution_count": null,
      "outputs": [
        {
          "output_type": "stream",
          "name": "stdout",
          "text": [
            "done\n"
          ]
        }
      ]
    },
    {
      "cell_type": "code",
      "metadata": {
        "id": "VCOjYIrwuLEQ"
      },
      "source": [
        "import os\n",
        "import natsort\n",
        "f_name = []\n",
        "path = '/content/CroppedData3/'\n",
        "# name1=os.listdir(path)\n",
        "for count, filename in enumerate(os.listdir(path)):\n",
        "  f_name.append(filename) # create a list of folders under path\n",
        "\n",
        "f_name = list(map(int, f_name))\n",
        "\n",
        "sort_ss = natsort.natsorted(f_name,reverse=False) # Sort them \n",
        "sort_ss = sort_ss # Save the soreted patient list\n"
      ],
      "execution_count": null,
      "outputs": []
    },
    {
      "cell_type": "code",
      "metadata": {
        "colab": {
          "base_uri": "https://localhost:8080/"
        },
        "id": "Jwvs-50uvsev",
        "outputId": "f07dc05d-f252-41fd-f106-a515b1edbac3"
      },
      "source": [
        "import numpy as np\n",
        "def findAllMissingNumbers(a):\n",
        "   b = sorted(a)\n",
        "   return list(set(range(b[0], b[-1])) - set(b))\n",
        "\n",
        "sort_list= findAllMissingNumbers(sort_ss)\n",
        "np.sort(sort_list)"
      ],
      "execution_count": null,
      "outputs": [
        {
          "output_type": "execute_result",
          "data": {
            "text/plain": [
              "array([ 34, 100, 264, 316, 369, 439, 635, 685, 742])"
            ]
          },
          "metadata": {},
          "execution_count": 22
        }
      ]
    }
  ]
}