{
  "nbformat": 4,
  "nbformat_minor": 0,
  "metadata": {
    "colab": {
      "name": "data_processing_revision.ipynb",
      "provenance": [],
      "collapsed_sections": [],
      "authorship_tag": "ABX9TyOGWMc7CS/VXF/L+pnCrI4G",
      "include_colab_link": true
    },
    "kernelspec": {
      "name": "python3",
      "display_name": "Python 3"
    },
    "language_info": {
      "name": "python"
    }
  },
  "cells": [
    {
      "cell_type": "markdown",
      "metadata": {
        "id": "view-in-github",
        "colab_type": "text"
      },
      "source": [
        "<a href=\"https://colab.research.google.com/github/sagihaider/MolarImages_Prediction/blob/main/data_processing_revision.ipynb\" target=\"_parent\"><img src=\"https://colab.research.google.com/assets/colab-badge.svg\" alt=\"Open In Colab\"/></a>"
      ]
    },
    {
      "cell_type": "code",
      "metadata": {
        "id": "QtsHPOnbyfSn"
      },
      "source": [
        "import numpy as np\n",
        "import pandas as pd\n",
        "import os"
      ],
      "execution_count": 1,
      "outputs": []
    },
    {
      "cell_type": "code",
      "metadata": {
        "colab": {
          "base_uri": "https://localhost:8080/"
        },
        "id": "r4qdQaUGx0YB",
        "outputId": "71eae9c4-9a07-4d6c-f160-2b224ac7792a"
      },
      "source": [
        "from zipfile import ZipFile\n",
        "file_name = \"/content/CroppedData1.zip\"\n",
        "with ZipFile(file_name, 'r') as zip:\n",
        "  zip.extractall()\n",
        "  print('done')"
      ],
      "execution_count": 2,
      "outputs": [
        {
          "output_type": "stream",
          "name": "stdout",
          "text": [
            "done\n"
          ]
        }
      ]
    },
    {
      "cell_type": "code",
      "metadata": {
        "id": "rJOZnv7TynCE",
        "colab": {
          "base_uri": "https://localhost:8080/"
        },
        "outputId": "3d220e8f-abf8-44e4-c63f-cd85ff757c78"
      },
      "source": [
        "# Read CSV file using pandas\n",
        "import pandas as pd\n",
        "df=pd.read_csv('/content/F1_F10_CroppedDataset.csv')\n",
        "# df=pd.read_csv('/content/Metadata/CroppedData2.csv')\n",
        "# df=pd.read_csv('/content/Metadata/CroppedData3.csv')\n",
        "print(df.head())\n",
        "\n",
        "# Output Dir\n",
        "base_dir = '/content/Sorted_Tooth/' # Create a folder to store data\n",
        "if not os.path.exists(base_dir): os.mkdir(base_dir)"
      ],
      "execution_count": 3,
      "outputs": [
        {
          "output_type": "stream",
          "name": "stdout",
          "text": [
            "   Age Gender            Name\n",
            "0   21      F      Jaya gupta\n",
            "1   28      M    Sudhir Kumar\n",
            "2   32      M  Shamshul kamar\n",
            "3   40      F         Manjula\n",
            "4   30      F   Vandana singh\n"
          ]
        }
      ]
    },
    {
      "cell_type": "code",
      "metadata": {
        "colab": {
          "base_uri": "https://localhost:8080/"
        },
        "id": "jIf7aDo73BmG",
        "outputId": "097287cb-0fcc-45b1-c91a-877523495c57"
      },
      "source": [
        "df.shape"
      ],
      "execution_count": 4,
      "outputs": [
        {
          "output_type": "execute_result",
          "data": {
            "text/plain": [
              "(998, 3)"
            ]
          },
          "metadata": {},
          "execution_count": 4
        }
      ]
    },
    {
      "cell_type": "markdown",
      "metadata": {
        "id": "ruwguM7T4Zdx"
      },
      "source": [
        "## Cropped Data 1"
      ]
    },
    {
      "cell_type": "code",
      "metadata": {
        "id": "Vn5x5DMoBU-u"
      },
      "source": [
        "import natsort \n",
        "import shutil\n",
        "import glob\n",
        "\n",
        "f_name = []\n",
        "path = '/content/CroppedData1/'\n",
        "# name1=os.listdir(path)\n",
        "for count, filename in enumerate(os.listdir(path)):\n",
        "  f_name.append(filename) # create a list of folders under path\n",
        "  \n",
        "!find . -name \"*.DS_Store\" -type f -delete # Uncooment this line when *.DS_Store list up\n",
        "# print(f_name)\n",
        "sort_name = natsort.natsorted(f_name,reverse=False)\n",
        "sort_name = sort_name # Sorted f_name above and saved it here\n",
        "\n",
        "p_id = 0 # patient_id unqiue for Cropped Data 1\n",
        "\n",
        "for s_p_count, s_p_name in enumerate(sort_name):\n",
        "  sub_path = path + sort_name[s_p_count] + '/*'\n",
        "  # print(sub_path)\n",
        "  ss=glob.glob(sub_path) # Read folders under each sub_path (patients folder)\n",
        "  sort_ss = natsort.natsorted(ss,reverse=False) # Sort them \n",
        "  # print(sort_ss)\n",
        "  sort_ss = sort_ss # Save the soreted patient list\n",
        "\n",
        "# print(sort_ss)\n",
        "\n",
        "  for p_count, p_name in enumerate(sort_ss):\n",
        "    # print(p_name)\n",
        "    p_name_files = []\n",
        "    p_folder= p_name + '/*.jpg'\n",
        "    p_name_files=glob.glob(p_folder)\n",
        "    p_id = p_id + 1\n",
        "    p_id_Age = p_id + 1\n",
        "    # print(p_name_files)\n",
        "    for p_f_count, p_name_f_name in enumerate(p_name_files):\n",
        "      # print(p_name_f_name)\n",
        "      dst = base_dir + \"/P_\" + str(p_id) + \"_img\" + str(p_f_count) + \"_age\" + str(df[\"Age\"][p_id - 1]) + \".jpg\"\n",
        "      print(p_id)\n",
        "      os.rename(p_name_f_name, dst)\n",
        "#     print(p_name_f_name)\n",
        "#     print(dst)\n",
        "#     # shutil.copyfile(p_name_f_name, dst)"
      ],
      "execution_count": null,
      "outputs": []
    },
    {
      "cell_type": "code",
      "source": [
        "output_filename = 'F1_F10_CroppedDataset'\n",
        "shutil.make_archive(output_filename, 'zip', '/content/Sorted_Tooth')"
      ],
      "metadata": {
        "colab": {
          "base_uri": "https://localhost:8080/",
          "height": 35
        },
        "id": "bFEcD519RvqS",
        "outputId": "5999da12-efa0-4f92-fa6a-bef208c67cf4"
      },
      "execution_count": 11,
      "outputs": [
        {
          "output_type": "execute_result",
          "data": {
            "text/plain": [
              "'/content/F1_F10_CroppedDataset.zip'"
            ],
            "application/vnd.google.colaboratory.intrinsic+json": {
              "type": "string"
            }
          },
          "metadata": {},
          "execution_count": 11
        }
      ]
    },
    {
      "cell_type": "markdown",
      "metadata": {
        "id": "c8aKlg3v4bzL"
      },
      "source": [
        "## Cropped Data 2"
      ]
    },
    {
      "cell_type": "code",
      "metadata": {
        "id": "8OpjGvEQ4d47"
      },
      "source": [
        "import natsort \n",
        "import shutil\n",
        "import glob\n",
        "\n",
        "f_name = []\n",
        "path = '/content/CroppedData2/'\n",
        "# name1=os.listdir(path)\n",
        "for count, filename in enumerate(os.listdir(path)):\n",
        "  f_name.append(filename) # create a list of folders under path\n",
        "  \n",
        "!find . -name \"*.DS_Store\" -type f -delete # Uncooment this line when *.DS_Store list up\n",
        "# print(f_name)\n",
        "sort_name = natsort.natsorted(f_name,reverse=False)\n",
        "sort_name = sort_name # Sorted f_name above and saved it here\n",
        "sort_name\n",
        "\n",
        "p_id = 999 # patient_id unqiue for Cropped Data 1\n",
        "p_id_Age = 0\n",
        "\n",
        "# for s_p_count, s_p_name in enumerate(sort_name):\n",
        "#   sub_path = path + sort_name[s_p_count] + '/*'\n",
        "#   # print(sub_path)\n",
        "#   ss=glob.glob(sub_path) # Read folders under each sub_path (patients folder)\n",
        "#   sort_ss = natsort.natsorted(ss,reverse=False) # Sort them \n",
        "#   # print(sort_ss)\n",
        "#   sort_ss = sort_ss # Save the soreted patient list\n",
        "\n",
        "for p_count, p_name in enumerate(sort_name):\n",
        "  # print(p_name)\n",
        "  p_name_files = []\n",
        "  p_folder= path + p_name + '/*.jpg'\n",
        "  # print(p_folder)\n",
        "  p_name_files=glob.glob(p_folder)\n",
        "  p_id = p_id + 1\n",
        "  p_id_Age = p_id_Age + 1\n",
        "  # print(p_name_files)\n",
        "  for p_f_count, p_name_f_name in enumerate(p_name_files):\n",
        "    # print(p_name_f_name)\n",
        "    dst = base_dir + \"P_\" + str(p_id) + \"_img\" + str(p_f_count) + \"_age\" + str(df[\"Age\"][p_id_Age - 1]) + \".jpg\"\n",
        "    # print(p_id)\n",
        "    os.rename(p_name_f_name, dst)\n",
        "# #     print(p_name_f_name)\n",
        "# #     print(dst)\n",
        "# #     # shutil.copyfile(p_name_f_name, dst)"
      ],
      "execution_count": null,
      "outputs": []
    },
    {
      "cell_type": "markdown",
      "metadata": {
        "id": "GfXuhjgXE1U2"
      },
      "source": [
        "## Cropped Data 3"
      ]
    },
    {
      "cell_type": "code",
      "metadata": {
        "id": "ayg7xYgjE4sc"
      },
      "source": [
        "import natsort \n",
        "import shutil\n",
        "import glob\n",
        "\n",
        "f_name = []\n",
        "path = '/content/CroppedData3/'\n",
        "# name1=os.listdir(path)\n",
        "for count, filename in enumerate(os.listdir(path)):\n",
        "  f_name.append(filename) # create a list of folders under path\n",
        "  \n",
        "!find . -name \"*.DS_Store\" -type f -delete # Uncooment this line when *.DS_Store list up\n",
        "# print(f_name)\n",
        "sort_name = natsort.natsorted(f_name,reverse=False)\n",
        "sort_name = sort_name # Sorted f_name above and saved it here\n",
        "sort_name\n",
        "\n",
        "p_id = 1888 # patient_id unqiue for Cropped Data 1\n",
        "p_id_Age = 0\n",
        "\n",
        "# for s_p_count, s_p_name in enumerate(sort_name):\n",
        "#   sub_path = path + sort_name[s_p_count] + '/*'\n",
        "#   # print(sub_path)\n",
        "#   ss=glob.glob(sub_path) # Read folders under each sub_path (patients folder)\n",
        "#   sort_ss = natsort.natsorted(ss,reverse=False) # Sort them \n",
        "#   # print(sort_ss)\n",
        "#   sort_ss = sort_ss # Save the soreted patient list\n",
        "\n",
        "for p_count, p_name in enumerate(sort_name):\n",
        "  # print(p_name)\n",
        "  p_name_files = []\n",
        "  p_folder= path + p_name + '/*.jpg'\n",
        "  # print(p_folder)\n",
        "  p_name_files=glob.glob(p_folder)\n",
        "  p_id = p_id + 1\n",
        "  p_id_Age = p_id_Age + 1\n",
        "  # print(p_name_files)\n",
        "  for p_f_count, p_name_f_name in enumerate(p_name_files):\n",
        "    # print(p_name_f_name)\n",
        "    dst = base_dir + \"P_\" + str(p_id) + \"_img\" + str(p_f_count) + \"_age\" + str(df[\"Age\"][p_id_Age - 1]) + \".jpg\"\n",
        "    # print(p_id)\n",
        "    os.rename(p_name_f_name, dst)\n",
        "# #     print(p_name_f_name)\n",
        "# #     print(dst)\n",
        "# #     # shutil.copyfile(p_name_f_name, dst)"
      ],
      "execution_count": null,
      "outputs": []
    },
    {
      "cell_type": "code",
      "metadata": {
        "colab": {
          "base_uri": "https://localhost:8080/",
          "height": 35
        },
        "id": "ZxgH9sTWDl6x",
        "outputId": "2c97f127-ecc5-4980-ffdb-86977d97388d"
      },
      "source": [
        "dst"
      ],
      "execution_count": null,
      "outputs": [
        {
          "output_type": "execute_result",
          "data": {
            "application/vnd.google.colaboratory.intrinsic+json": {
              "type": "string"
            },
            "text/plain": [
              "'/content/Sorted_Tooth/P_2667_img3_age34.jpg'"
            ]
          },
          "metadata": {},
          "execution_count": 45
        }
      ]
    },
    {
      "cell_type": "code",
      "metadata": {
        "colab": {
          "base_uri": "https://localhost:8080/",
          "height": 35
        },
        "id": "jS3Ou9X35D1s",
        "outputId": "9dd18bbe-0526-43f8-d6c9-45d1abd75f61"
      },
      "source": [
        "output_filename = 'output_croppeddata3'\n",
        "shutil.make_archive(output_filename, 'zip', '/content/Sorted_Tooth')"
      ],
      "execution_count": null,
      "outputs": [
        {
          "output_type": "execute_result",
          "data": {
            "application/vnd.google.colaboratory.intrinsic+json": {
              "type": "string"
            },
            "text/plain": [
              "'/content/output_croppeddata3.zip'"
            ]
          },
          "metadata": {},
          "execution_count": 46
        }
      ]
    },
    {
      "cell_type": "code",
      "metadata": {
        "id": "BPu03iLXAxGi"
      },
      "source": [
        "import glob\n",
        "files = glob.glob('/content/Sorted_Tooth/*')\n",
        "# files = glob.glob('/content/CroppedData3/*')\n",
        "for f in files:\n",
        "    os.remove(f)"
      ],
      "execution_count": null,
      "outputs": []
    },
    {
      "cell_type": "code",
      "metadata": {
        "colab": {
          "base_uri": "https://localhost:8080/"
        },
        "id": "dtBpW6a2tnE3",
        "outputId": "6e612313-110a-475c-dd8f-05326fdb9e16"
      },
      "source": [
        "# Data Cropped 3 remove missing number \n",
        "from zipfile import ZipFile\n",
        "file_name = \"/content/CroppedData3.zip\"\n",
        "with ZipFile(file_name, 'r') as zip:\n",
        "  zip.extractall()\n",
        "  print('done')"
      ],
      "execution_count": null,
      "outputs": [
        {
          "output_type": "stream",
          "name": "stdout",
          "text": [
            "done\n"
          ]
        }
      ]
    },
    {
      "cell_type": "code",
      "metadata": {
        "id": "VCOjYIrwuLEQ"
      },
      "source": [
        "import os\n",
        "import natsort\n",
        "f_name = []\n",
        "path = '/content/CroppedData3/'\n",
        "# name1=os.listdir(path)\n",
        "for count, filename in enumerate(os.listdir(path)):\n",
        "  f_name.append(filename) # create a list of folders under path\n",
        "\n",
        "f_name = list(map(int, f_name))\n",
        "\n",
        "sort_ss = natsort.natsorted(f_name,reverse=False) # Sort them \n",
        "sort_ss = sort_ss # Save the soreted patient list\n"
      ],
      "execution_count": null,
      "outputs": []
    },
    {
      "cell_type": "code",
      "metadata": {
        "colab": {
          "base_uri": "https://localhost:8080/"
        },
        "id": "Jwvs-50uvsev",
        "outputId": "f07dc05d-f252-41fd-f106-a515b1edbac3"
      },
      "source": [
        "import numpy as np\n",
        "def findAllMissingNumbers(a):\n",
        "   b = sorted(a)\n",
        "   return list(set(range(b[0], b[-1])) - set(b))\n",
        "\n",
        "sort_list= findAllMissingNumbers(sort_ss)\n",
        "np.sort(sort_list)"
      ],
      "execution_count": null,
      "outputs": [
        {
          "output_type": "execute_result",
          "data": {
            "text/plain": [
              "array([ 34, 100, 264, 316, 369, 439, 635, 685, 742])"
            ]
          },
          "metadata": {},
          "execution_count": 22
        }
      ]
    }
  ]
}