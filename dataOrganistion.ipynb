{
  "nbformat": 4,
  "nbformat_minor": 0,
  "metadata": {
    "colab": {
      "name": "dataOrganistion.ipynb",
      "provenance": [],
      "authorship_tag": "ABX9TyMKqY7tbOl6rukCa/YgVFL+",
      "include_colab_link": true
    },
    "kernelspec": {
      "name": "python3",
      "display_name": "Python 3"
    },
    "language_info": {
      "name": "python"
    }
  },
  "cells": [
    {
      "cell_type": "markdown",
      "metadata": {
        "id": "view-in-github",
        "colab_type": "text"
      },
      "source": [
        "<a href=\"https://colab.research.google.com/github/sagihaider/MolarImages_Prediction/blob/main/dataOrganistion.ipynb\" target=\"_parent\"><img src=\"https://colab.research.google.com/assets/colab-badge.svg\" alt=\"Open In Colab\"/></a>"
      ]
    },
    {
      "cell_type": "code",
      "metadata": {
        "colab": {
          "base_uri": "https://localhost:8080/"
        },
        "id": "3KRX2S8rgYGU",
        "outputId": "a6cfc0bf-1d84-418a-e189-7f8b5385028a"
      },
      "source": [
        "import os\n",
        "\n",
        "from zipfile import ZipFile\n",
        "file_name = \"/content/mainTeeth.zip\"\n",
        "with ZipFile(file_name, 'r') as zip:\n",
        "  zip.extractall()\n",
        "  print('done')"
      ],
      "execution_count": 1,
      "outputs": [
        {
          "output_type": "stream",
          "name": "stdout",
          "text": [
            "done\n"
          ]
        }
      ]
    },
    {
      "cell_type": "code",
      "metadata": {
        "colab": {
          "base_uri": "https://localhost:8080/"
        },
        "id": "ONcBBzdUhKfi",
        "outputId": "ebc7ff53-a47a-4118-9aac-a10ef35bbcc0"
      },
      "source": [
        "import glob\n",
        "p_folder= '/content/mainTeeth' + '/*.jpg'\n",
        "p_name_files=glob.glob(p_folder)\n",
        "# print(p_name_files)\n",
        "print(len(p_name_files))\n"
      ],
      "execution_count": 3,
      "outputs": [
        {
          "output_type": "stream",
          "name": "stdout",
          "text": [
            "10800\n"
          ]
        }
      ]
    },
    {
      "cell_type": "code",
      "metadata": {
        "id": "zhZkGyrkGwPH"
      },
      "source": [
        "# Output Dir\n",
        "import shutil\n",
        "base_dir = '/content/Organised_Sorted_Tooth/' # Create a folder to store data\n",
        "if not os.path.exists(base_dir): os.mkdir(base_dir)\n",
        "\n",
        "age1_9 = os.path.join(base_dir, 'age1_9')\n",
        "if os.path.exists(base_dir): os.mkdir(age1_9)\n",
        "\n",
        "age10_19 = os.path.join(base_dir, 'age10_19')\n",
        "if os.path.exists(base_dir): os.mkdir(age10_19)\n",
        "\n",
        "age20_29 = os.path.join(base_dir, 'age20_29')\n",
        "if os.path.exists(base_dir): os.mkdir(age20_29)\n",
        "\n",
        "age30_39 = os.path.join(base_dir, 'age30_39')\n",
        "if os.path.exists(base_dir): os.mkdir(age30_39)\n",
        "\n",
        "age40_49 = os.path.join(base_dir, 'age40_49')\n",
        "if os.path.exists(base_dir): os.mkdir(age40_49)\n",
        "\n",
        "age50_59 = os.path.join(base_dir, 'age50_59')\n",
        "if os.path.exists(base_dir): os.mkdir(age50_59)\n",
        "\n",
        "age60_69 = os.path.join(base_dir, 'age60_69')\n",
        "if os.path.exists(base_dir): os.mkdir(age60_69)\n",
        "\n",
        "age70_79 = os.path.join(base_dir, 'age70_79')\n",
        "if os.path.exists(base_dir): os.mkdir(age70_79)\n",
        "\n",
        "age80_89 = os.path.join(base_dir, 'age80_89')\n",
        "if os.path.exists(base_dir): os.mkdir(age80_89)\n",
        "\n",
        "age90_99 = os.path.join(base_dir, 'age90_99')\n",
        "if os.path.exists(base_dir): os.mkdir(age90_99)\n",
        "\n"
      ],
      "execution_count": 57,
      "outputs": []
    },
    {
      "cell_type": "code",
      "metadata": {
        "id": "Wb7CnOtZi7Xy"
      },
      "source": [
        "\n",
        "# path_card =  '/content/mainTeeth/*age21.jpg*'\n",
        "# num_file = []\n",
        "# for name in glob.glob(path_card):\n",
        "#     print(name)\n",
        "#     num_file.append(name)\n",
        "#     # shutil.copy(name, plus10)\n",
        "# len(num_file)\n",
        "\n"
      ],
      "execution_count": null,
      "outputs": []
    },
    {
      "cell_type": "code",
      "metadata": {
        "id": "ZiT5iNG3M-uF"
      },
      "source": [
        "x = range(1, 100)\n",
        "for n in x:\n",
        "  path_card =  '/content/mainTeeth/*age' + str(n) + '.jpg*'\n",
        "  print(path_card)\n",
        "  num_file = []\n",
        "  for name in glob.glob(path_card):\n",
        "    # print(name)\n",
        "    num_file.append(name)\n",
        "    if n >= 1 and n <10:\n",
        "      shutil.copy(name, age1_9)\n",
        "    elif n >= 10 and n <20:\n",
        "      shutil.copy(name, age10_19)\n",
        "    elif n >= 20 and n <30:\n",
        "      shutil.copy(name, age20_29)\n",
        "    elif n >= 30 and n <40:\n",
        "      shutil.copy(name, age30_39)      \n",
        "    elif n >= 40 and n <50:\n",
        "      shutil.copy(name, age40_49)\n",
        "    elif n >= 50 and n <60:\n",
        "      shutil.copy(name, age50_59)\n",
        "    elif n >= 60 and n <70:\n",
        "      shutil.copy(name, age60_69)\n",
        "    elif n >= 70 and n <80:\n",
        "      shutil.copy(name, age70_79)\n",
        "    elif n >= 80 and n <90:\n",
        "      shutil.copy(name, age80_89)\n",
        "    elif n >= 90 and n <100:\n",
        "      shutil.copy(name, age90_99)\n",
        "    else:\n",
        "      print(name)\n"
      ],
      "execution_count": null,
      "outputs": []
    },
    {
      "cell_type": "code",
      "metadata": {
        "colab": {
          "base_uri": "https://localhost:8080/",
          "height": 35
        },
        "id": "xPSIJyRIT68c",
        "outputId": "5f6bc101-e8ae-40ab-83fb-cb64fb241fd5"
      },
      "source": [
        "output_filename = 'Organised_Sorted_Tooth'\n",
        "shutil.make_archive(output_filename, 'zip', '/content/Organised_Sorted_Tooth')"
      ],
      "execution_count": 59,
      "outputs": [
        {
          "output_type": "execute_result",
          "data": {
            "application/vnd.google.colaboratory.intrinsic+json": {
              "type": "string"
            },
            "text/plain": [
              "'/content/Organised_Sorted_Tooth.zip'"
            ]
          },
          "metadata": {},
          "execution_count": 59
        }
      ]
    },
    {
      "cell_type": "code",
      "metadata": {
        "id": "5GiTq7E0QVPr"
      },
      "source": [
        "shutil.rmtree('/content/Organised_Sorted_Tooth')"
      ],
      "execution_count": 56,
      "outputs": []
    }
  ]
}